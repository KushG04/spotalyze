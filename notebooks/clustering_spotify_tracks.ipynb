{
 "cells": [
  {
   "cell_type": "code",
   "execution_count": null,
   "metadata": {},
   "outputs": [],
   "source": [
    "import pandas as pd\n",
    "from sklearn.cluster import KMeans\n",
    "from sklearn.preprocessing import StandardScaler\n",
    "import matplotlib.pyplot as plt\n",
    "import seaborn as sns\n",
    "\n",
    "# load data\n",
    "df = pd.read_csv('data/top_tracks_audio_features.csv')\n",
    "\n",
    "# standardize data\n",
    "scaler = StandardScaler()\n",
    "scaled_features = scaler.fit_transform(df[['danceability', 'energy', 'valence', 'tempo', 'acousticness']])\n",
    "\n",
    "# k-means clustering\n",
    "kmeans = KMeans(n_clusters=5, random_state=42)\n",
    "df['cluster'] = kmeans.fit_predict(scaled_features)\n",
    "\n",
    "# visualize clusters with pairplot\n",
    "sns.pairplot(df[['danceability', 'energy', 'valence', 'tempo', 'acousticness', 'cluster']], hue='cluster', palette='viridis')\n",
    "plt.suptitle('Pairplot with Clusters', y=1.02)\n",
    "plt.show()\n",
    "\n",
    "# cluster distribution\n",
    "plt.figure(figsize=(8, 6))\n",
    "sns.countplot(x='cluster', data=df, palette='viridis')\n",
    "plt.title('Cluster Distribution')\n",
    "plt.xlabel('Cluster')\n",
    "plt.ylabel('Count')\n",
    "plt.show()\n",
    "\n",
    "# scatter plot for two key features with clusters\n",
    "plt.figure(figsize=(10, 6))\n",
    "sns.scatterplot(x='energy', y='danceability', hue='cluster', data=df, palette='viridis')\n",
    "plt.title('Scatter Plot of Energy vs Danceability with Clusters')\n",
    "plt.show()\n",
    "\n",
    "# analyze and visualize cluster centers\n",
    "centers = pd.DataFrame(scaler.inverse_transform(kmeans.cluster_centers_), columns=['danceability', 'energy', 'valence', 'tempo', 'acousticness'])\n",
    "plt.figure(figsize=(10, 6))\n",
    "sns.heatmap(centers.T, annot=True, cmap='coolwarm', cbar=True, yticklabels=centers.columns)\n",
    "plt.title('Cluster Centers (Original Scale)')\n",
    "plt.show()\n",
    "\n",
    "# visualize clusters using violin plots\n",
    "plt.figure(figsize=(12, 8))\n",
    "sns.violinplot(x='cluster', y='energy', data=df, palette='viridis')\n",
    "plt.title('Violin Plot for Energy by Cluster')\n",
    "plt.show()"
   ]
  }
 ],
 "metadata": {
  "language_info": {
   "name": "python"
  }
 },
 "nbformat": 4,
 "nbformat_minor": 2
}
